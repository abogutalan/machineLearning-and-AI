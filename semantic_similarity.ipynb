{
  "nbformat": 4,
  "nbformat_minor": 0,
  "metadata": {
    "colab": {
      "name": "semantic-similarity.ipynb",
      "provenance": [],
      "authorship_tag": "ABX9TyPkQapBriFzNZ0bZJLW8we2",
      "include_colab_link": true
    },
    "kernelspec": {
      "name": "python3",
      "display_name": "Python 3"
    },
    "language_info": {
      "name": "python"
    }
  },
  "cells": [
    {
      "cell_type": "markdown",
      "metadata": {
        "id": "view-in-github",
        "colab_type": "text"
      },
      "source": [
        "<a href=\"https://colab.research.google.com/github/abogutalan/machineLearning-and-AI/blob/master/semantic_similarity.ipynb\" target=\"_parent\"><img src=\"https://colab.research.google.com/assets/colab-badge.svg\" alt=\"Open In Colab\"/></a>"
      ]
    },
    {
      "cell_type": "markdown",
      "source": [
        "# Compute Semantic Textual Similarity between two texts using Pytorch and SentenceTransformers\n",
        "\n",
        "**The main objective** Semantic Similarity is to measure the distance between the semantic meanings of a pair of words, phrases, sentences, or documents.\n",
        "\n",
        "```\n",
        "Applications;\n",
        "- information retrieval, \n",
        "- text summarization, \n",
        "- sentiment analysis etc.\n",
        "\n",
        "Keywords;\n",
        "- NLP\n",
        "- Semantic Textual Similarity\n",
        "- Pytorch\n",
        "- cosine similarity\n",
        "- SentenceTransformers: \n",
        "    - a simple library that provides an easy method to calculate dense vector representations (e.g. embeddings) for texts. \n",
        "    - requires Pytorch and Transformers to be downloaded.\n",
        "    - recommends Python 3.6 or higher, PyTorch 1.6.0 or higher, and transformers v3.1.0 or higher.\n",
        "- stsb-roberta-large: uses ROBERTA-large as the base model and mean-pooling, is the best model for the task of semantic similarity.\n",
        "- semantic search: to find the top most relevant sentences in a corpus given a query sentence. \n",
        "\n",
        "\n",
        "```"
      ],
      "metadata": {
        "id": "xCeknGO0EyMB"
      }
    },
    {
      "cell_type": "markdown",
      "source": [
        "**Install Transformers**\n"
      ],
      "metadata": {
        "id": "YvVWbhkatbRv"
      }
    },
    {
      "cell_type": "code",
      "source": [
        "pip install transformers\n"
      ],
      "metadata": {
        "colab": {
          "base_uri": "https://localhost:8080/"
        },
        "id": "1dV7bIS7tC8l",
        "outputId": "4ed004d4-6fc1-4c2a-cbbf-a2c8e1decaf3"
      },
      "execution_count": 25,
      "outputs": [
        {
          "output_type": "stream",
          "name": "stdout",
          "text": [
            "Looking in indexes: https://pypi.org/simple, https://us-python.pkg.dev/colab-wheels/public/simple/\n",
            "Requirement already satisfied: transformers in /usr/local/lib/python3.7/dist-packages (4.19.2)\n",
            "Requirement already satisfied: pyyaml>=5.1 in /usr/local/lib/python3.7/dist-packages (from transformers) (6.0)\n",
            "Requirement already satisfied: filelock in /usr/local/lib/python3.7/dist-packages (from transformers) (3.7.0)\n",
            "Requirement already satisfied: numpy>=1.17 in /usr/local/lib/python3.7/dist-packages (from transformers) (1.21.6)\n",
            "Requirement already satisfied: requests in /usr/local/lib/python3.7/dist-packages (from transformers) (2.23.0)\n",
            "Requirement already satisfied: regex!=2019.12.17 in /usr/local/lib/python3.7/dist-packages (from transformers) (2019.12.20)\n",
            "Requirement already satisfied: packaging>=20.0 in /usr/local/lib/python3.7/dist-packages (from transformers) (21.3)\n",
            "Requirement already satisfied: huggingface-hub<1.0,>=0.1.0 in /usr/local/lib/python3.7/dist-packages (from transformers) (0.7.0)\n",
            "Requirement already satisfied: importlib-metadata in /usr/local/lib/python3.7/dist-packages (from transformers) (4.11.3)\n",
            "Requirement already satisfied: tqdm>=4.27 in /usr/local/lib/python3.7/dist-packages (from transformers) (4.64.0)\n",
            "Requirement already satisfied: tokenizers!=0.11.3,<0.13,>=0.11.1 in /usr/local/lib/python3.7/dist-packages (from transformers) (0.12.1)\n",
            "Requirement already satisfied: typing-extensions>=3.7.4.3 in /usr/local/lib/python3.7/dist-packages (from huggingface-hub<1.0,>=0.1.0->transformers) (4.2.0)\n",
            "Requirement already satisfied: pyparsing!=3.0.5,>=2.0.2 in /usr/local/lib/python3.7/dist-packages (from packaging>=20.0->transformers) (3.0.9)\n",
            "Requirement already satisfied: zipp>=0.5 in /usr/local/lib/python3.7/dist-packages (from importlib-metadata->transformers) (3.8.0)\n",
            "Requirement already satisfied: urllib3!=1.25.0,!=1.25.1,<1.26,>=1.21.1 in /usr/local/lib/python3.7/dist-packages (from requests->transformers) (1.24.3)\n",
            "Requirement already satisfied: chardet<4,>=3.0.2 in /usr/local/lib/python3.7/dist-packages (from requests->transformers) (3.0.4)\n",
            "Requirement already satisfied: idna<3,>=2.5 in /usr/local/lib/python3.7/dist-packages (from requests->transformers) (2.10)\n",
            "Requirement already satisfied: certifi>=2017.4.17 in /usr/local/lib/python3.7/dist-packages (from requests->transformers) (2022.5.18.1)\n"
          ]
        }
      ]
    },
    {
      "cell_type": "markdown",
      "source": [
        "**Install SentenceTransformers**\n"
      ],
      "metadata": {
        "id": "mrb3K7FOtefz"
      }
    },
    {
      "cell_type": "code",
      "source": [
        "pip install sentence-transformers\n"
      ],
      "metadata": {
        "colab": {
          "base_uri": "https://localhost:8080/"
        },
        "id": "KkYDu_putG4P",
        "outputId": "8116b219-e98d-4d8a-b74e-5205c39cf931"
      },
      "execution_count": 26,
      "outputs": [
        {
          "output_type": "stream",
          "name": "stdout",
          "text": [
            "Looking in indexes: https://pypi.org/simple, https://us-python.pkg.dev/colab-wheels/public/simple/\n",
            "Requirement already satisfied: sentence-transformers in /usr/local/lib/python3.7/dist-packages (2.2.0)\n",
            "Requirement already satisfied: torchvision in /usr/local/lib/python3.7/dist-packages (from sentence-transformers) (0.12.0+cu113)\n",
            "Requirement already satisfied: huggingface-hub in /usr/local/lib/python3.7/dist-packages (from sentence-transformers) (0.7.0)\n",
            "Requirement already satisfied: torch>=1.6.0 in /usr/local/lib/python3.7/dist-packages (from sentence-transformers) (1.11.0+cu113)\n",
            "Requirement already satisfied: numpy in /usr/local/lib/python3.7/dist-packages (from sentence-transformers) (1.21.6)\n",
            "Requirement already satisfied: transformers<5.0.0,>=4.6.0 in /usr/local/lib/python3.7/dist-packages (from sentence-transformers) (4.19.2)\n",
            "Requirement already satisfied: scikit-learn in /usr/local/lib/python3.7/dist-packages (from sentence-transformers) (1.0.2)\n",
            "Requirement already satisfied: scipy in /usr/local/lib/python3.7/dist-packages (from sentence-transformers) (1.4.1)\n",
            "Requirement already satisfied: sentencepiece in /usr/local/lib/python3.7/dist-packages (from sentence-transformers) (0.1.96)\n",
            "Requirement already satisfied: nltk in /usr/local/lib/python3.7/dist-packages (from sentence-transformers) (3.2.5)\n",
            "Requirement already satisfied: tqdm in /usr/local/lib/python3.7/dist-packages (from sentence-transformers) (4.64.0)\n",
            "Requirement already satisfied: typing-extensions in /usr/local/lib/python3.7/dist-packages (from torch>=1.6.0->sentence-transformers) (4.2.0)\n",
            "Requirement already satisfied: filelock in /usr/local/lib/python3.7/dist-packages (from transformers<5.0.0,>=4.6.0->sentence-transformers) (3.7.0)\n",
            "Requirement already satisfied: requests in /usr/local/lib/python3.7/dist-packages (from transformers<5.0.0,>=4.6.0->sentence-transformers) (2.23.0)\n",
            "Requirement already satisfied: tokenizers!=0.11.3,<0.13,>=0.11.1 in /usr/local/lib/python3.7/dist-packages (from transformers<5.0.0,>=4.6.0->sentence-transformers) (0.12.1)\n",
            "Requirement already satisfied: packaging>=20.0 in /usr/local/lib/python3.7/dist-packages (from transformers<5.0.0,>=4.6.0->sentence-transformers) (21.3)\n",
            "Requirement already satisfied: importlib-metadata in /usr/local/lib/python3.7/dist-packages (from transformers<5.0.0,>=4.6.0->sentence-transformers) (4.11.3)\n",
            "Requirement already satisfied: pyyaml>=5.1 in /usr/local/lib/python3.7/dist-packages (from transformers<5.0.0,>=4.6.0->sentence-transformers) (6.0)\n",
            "Requirement already satisfied: regex!=2019.12.17 in /usr/local/lib/python3.7/dist-packages (from transformers<5.0.0,>=4.6.0->sentence-transformers) (2019.12.20)\n",
            "Requirement already satisfied: pyparsing!=3.0.5,>=2.0.2 in /usr/local/lib/python3.7/dist-packages (from packaging>=20.0->transformers<5.0.0,>=4.6.0->sentence-transformers) (3.0.9)\n",
            "Requirement already satisfied: zipp>=0.5 in /usr/local/lib/python3.7/dist-packages (from importlib-metadata->transformers<5.0.0,>=4.6.0->sentence-transformers) (3.8.0)\n",
            "Requirement already satisfied: six in /usr/local/lib/python3.7/dist-packages (from nltk->sentence-transformers) (1.15.0)\n",
            "Requirement already satisfied: certifi>=2017.4.17 in /usr/local/lib/python3.7/dist-packages (from requests->transformers<5.0.0,>=4.6.0->sentence-transformers) (2022.5.18.1)\n",
            "Requirement already satisfied: urllib3!=1.25.0,!=1.25.1,<1.26,>=1.21.1 in /usr/local/lib/python3.7/dist-packages (from requests->transformers<5.0.0,>=4.6.0->sentence-transformers) (1.24.3)\n",
            "Requirement already satisfied: idna<3,>=2.5 in /usr/local/lib/python3.7/dist-packages (from requests->transformers<5.0.0,>=4.6.0->sentence-transformers) (2.10)\n",
            "Requirement already satisfied: chardet<4,>=3.0.2 in /usr/local/lib/python3.7/dist-packages (from requests->transformers<5.0.0,>=4.6.0->sentence-transformers) (3.0.4)\n",
            "Requirement already satisfied: threadpoolctl>=2.0.0 in /usr/local/lib/python3.7/dist-packages (from scikit-learn->sentence-transformers) (3.1.0)\n",
            "Requirement already satisfied: joblib>=0.11 in /usr/local/lib/python3.7/dist-packages (from scikit-learn->sentence-transformers) (1.1.0)\n",
            "Requirement already satisfied: pillow!=8.3.*,>=5.3.0 in /usr/local/lib/python3.7/dist-packages (from torchvision->sentence-transformers) (7.1.2)\n"
          ]
        }
      ]
    },
    {
      "cell_type": "markdown",
      "source": [
        "# **Import Library**\n"
      ],
      "metadata": {
        "id": "mtfr2GAztp48"
      }
    },
    {
      "cell_type": "code",
      "execution_count": 27,
      "metadata": {
        "id": "Ao2aHnNLEl7C"
      },
      "outputs": [],
      "source": [
        "# import library\n",
        "\n",
        "from sentence_transformers import SentenceTransformer, util\n",
        "import numpy as np"
      ]
    },
    {
      "cell_type": "markdown",
      "source": [
        "# **Model Selection and Initialization**"
      ],
      "metadata": {
        "id": "3xrg_GnHtzJ-"
      }
    },
    {
      "cell_type": "code",
      "source": [
        "# List of models optimized for semantic textual similarity can be found at:\n",
        "# https://docs.google.com/spreadsheets/d/14QplCdTCDwEmTqrn1LH4yrbKvdogK4oQvYO1K1aPR5M/edit#gid=0\n",
        "model = SentenceTransformer('stsb-roberta-large')"
      ],
      "metadata": {
        "id": "HdXVvFqmuuTA"
      },
      "execution_count": 28,
      "outputs": []
    },
    {
      "cell_type": "markdown",
      "source": [
        "# **Calculate semantic similarity between two sentences**"
      ],
      "metadata": {
        "id": "GP6MM-KguzUT"
      }
    },
    {
      "cell_type": "code",
      "source": [
        "sentence1 = \"I like Python because I can build AI applications\"\n",
        "sentence2 = \"I like Python because I can do data analytics\"\n",
        "\n",
        "# encode sentences to get their embeddings\n",
        "# convert the final embeddings to tensor so that they can be \n",
        "# processed faster by the GPU. Not required for small data.\n",
        "embedding1 = model.encode(sentence1, convert_to_tensor=True)\n",
        "embedding2 = model.encode(sentence2, convert_to_tensor=True)\n",
        "\n",
        "# compute similarity scores of two embeddings, using \n",
        "# the pytorch_cos_sim function provided by the util, \n",
        "# thanks to Sentence-Transformers.\n",
        "cosine_scores = util.pytorch_cos_sim(embedding1, embedding2)\n",
        "\n",
        "print(\"embedding 1:\", embedding1)\n",
        "print(\"embedding 2:\", embedding2)\n",
        "print(\"\\nSentence 1:\", sentence1)\n",
        "print(\"Sentence 2:\", sentence2)\n",
        "print(\"\\nSemantic Similarity score:\", cosine_scores.item())"
      ],
      "metadata": {
        "colab": {
          "base_uri": "https://localhost:8080/"
        },
        "id": "yJCb0zB9vIF5",
        "outputId": "75e9ab2c-cde4-4a15-e52d-67e79e26c659"
      },
      "execution_count": 29,
      "outputs": [
        {
          "output_type": "stream",
          "name": "stdout",
          "text": [
            "embedding 1: tensor([-0.4627,  0.7407, -0.2662,  ...,  1.6758, -2.6873, -0.2177])\n",
            "embedding 2: tensor([-0.3860,  0.6502, -0.3014,  ...,  1.5001, -2.2585,  0.7606])\n",
            "\n",
            "Sentence 1: I like Python because I can build AI applications\n",
            "Sentence 2: I like Python because I can do data analytics\n",
            "\n",
            "Semantic Similarity score: 0.8015284538269043\n"
          ]
        }
      ]
    },
    {
      "cell_type": "markdown",
      "source": [
        "# **Calculate semantic similarity between two lists of sentences**"
      ],
      "metadata": {
        "id": "18RyW0bux2G8"
      }
    },
    {
      "cell_type": "code",
      "source": [
        "sentence1 = [\"I like Python because I can build AI applications\",\n",
        "             \"The cat sits on the ground\"]\n",
        "sentence2 = [\"I like Python because I can do data analytics\",\n",
        "             \"The cat walks on the sidewalk\"]             \n",
        "\n",
        "# encode list of sentences to get their embeddings\n",
        "embedding1 = model.encode(sentence1, convert_to_tensor=True)            \n",
        "embedding2 = model.encode(sentence2, convert_to_tensor=True)            \n",
        "\n",
        "# compute similarity scores of two embeddings\n",
        "cosine_scores = util.pytorch_cos_sim(embedding1, embedding2)\n",
        "\n",
        "for i in range(len(sentence1)):\n",
        "  for j in range(len(sentence2)):\n",
        "    print(\"Sentence 1:\", sentence1[i])\n",
        "    print(\"Sentence 2:\", sentence2[j])\n",
        "    print(\"Similarity Score:\", cosine_scores[i][j].item())\n",
        "    print()\n"
      ],
      "metadata": {
        "colab": {
          "base_uri": "https://localhost:8080/"
        },
        "id": "7EKwFDcfyDGR",
        "outputId": "770b0a46-2b44-4285-ec13-4bf7ec2358bd"
      },
      "execution_count": 30,
      "outputs": [
        {
          "output_type": "stream",
          "name": "stdout",
          "text": [
            "Sentence 1: I like Python because I can build AI applications\n",
            "Sentence 2: I like Python because I can do data analytics\n",
            "Similarity Score: 0.8015284538269043\n",
            "\n",
            "Sentence 1: I like Python because I can build AI applications\n",
            "Sentence 2: The cat walks on the sidewalk\n",
            "Similarity Score: -0.031109800562262535\n",
            "\n",
            "Sentence 1: The cat sits on the ground\n",
            "Sentence 2: I like Python because I can do data analytics\n",
            "Similarity Score: 0.11328643560409546\n",
            "\n",
            "Sentence 1: The cat sits on the ground\n",
            "Sentence 2: The cat walks on the sidewalk\n",
            "Similarity Score: 0.4038149118423462\n",
            "\n"
          ]
        }
      ]
    },
    {
      "cell_type": "markdown",
      "source": [
        "> Conclusion: The outputted similarity score gets higher as the sentence pairs are more similar.\n",
        "\n"
      ],
      "metadata": {
        "id": "ANtfrLUSzqGr"
      }
    },
    {
      "cell_type": "markdown",
      "source": [
        "# **Retrieve Top K most similar sentences from a corpus given a sentence**"
      ],
      "metadata": {
        "id": "ZTF_jzMr0lI8"
      }
    },
    {
      "cell_type": "markdown",
      "source": [
        "A popular use case of semantic similarity is to find the top most relevant sentences in a corpus given a query sentence. This can also be called as **semantic search**."
      ],
      "metadata": {
        "id": "cCv9UMBd1IqU"
      }
    },
    {
      "cell_type": "code",
      "source": [
        "corpus = [\"I like Python because I can build AI applications\",\n",
        "          \"I like Python because I can do data analytics\",\n",
        "          \"The cat sits on the ground\",\n",
        "         \"The cat walks on the sidewalk\"]\n",
        "\n",
        "# encode corpus to get corpus embeddings\n",
        "corpus_embeddings = model.encode(corpus, convert_to_tensor=True)\n",
        "\n",
        "sentence = \"I like Javascript because I can build web applications\"\n",
        "\n",
        "# encode sentence to get sentence embeddings\n",
        "sentence_embedding = model.encode(sentence, convert_to_tensor=True)\n",
        "\n",
        "# top_k results to return\n",
        "top_k=2\n",
        "\n",
        "# compute similarity scores of the sentence with the corpus\n",
        "cos_scores = util.pytorch_cos_sim(sentence_embedding, corpus_embeddings)[0]\n",
        "\n",
        "#Sort the results in decreasing order and get the first top_k\n",
        "top_results = np.argpartition(-cos_scores, range(top_k))[0:top_k]\n",
        "\n",
        "print(\"Sentence:\",sentence,\"\\n\")\n",
        "print(\"Top\", top_k, \"most similar sentence in corpus:\")\n",
        "for idx in top_results[0:top_k]:\n",
        "  print(corpus[idx], \"(Score: %.4f\" % (cos_scores[idx]))\n"
      ],
      "metadata": {
        "colab": {
          "base_uri": "https://localhost:8080/"
        },
        "id": "AapMPylp1BZg",
        "outputId": "a852b7a9-b191-4f71-d5a9-fa8c5ee4ef79"
      },
      "execution_count": 31,
      "outputs": [
        {
          "output_type": "stream",
          "name": "stdout",
          "text": [
            "Sentence: I like Javascript because I can build web applications \n",
            "\n",
            "Top 2 most similar sentence in corpus:\n",
            "I like Python because I can build AI applications (Score: 0.6696\n",
            "I like Python because I can do data analytics (Score: 0.5455\n"
          ]
        }
      ]
    }
  ]
}